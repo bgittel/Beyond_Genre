{
  "cells": [
    {
      "cell_type": "markdown",
      "metadata": {
        "id": "view-in-github",
        "colab_type": "text"
      },
      "source": [
        "<a href=\"https://colab.research.google.com/github/bgittel/Beyond_Genre/blob/main/code/clustering_kproto.ipynb\" target=\"_parent\"><img src=\"https://colab.research.google.com/assets/colab-badge.svg\" alt=\"Open In Colab\"/></a>"
      ]
    },
    {
      "cell_type": "code",
      "execution_count": 1,
      "metadata": {
        "colab": {
          "base_uri": "https://localhost:8080/"
        },
        "id": "26AfYnjOaV7P",
        "outputId": "66569271-a550-49de-9f85-36f224042751"
      },
      "outputs": [
        {
          "output_type": "stream",
          "name": "stdout",
          "text": [
            "Collecting kmodes\n",
            "  Downloading kmodes-0.12.2-py2.py3-none-any.whl.metadata (8.1 kB)\n",
            "Requirement already satisfied: numpy>=1.10.4 in /usr/local/lib/python3.10/dist-packages (from kmodes) (1.26.4)\n",
            "Requirement already satisfied: scikit-learn>=0.22.0 in /usr/local/lib/python3.10/dist-packages (from kmodes) (1.5.2)\n",
            "Requirement already satisfied: scipy>=0.13.3 in /usr/local/lib/python3.10/dist-packages (from kmodes) (1.13.1)\n",
            "Requirement already satisfied: joblib>=0.11 in /usr/local/lib/python3.10/dist-packages (from kmodes) (1.4.2)\n",
            "Requirement already satisfied: threadpoolctl>=3.1.0 in /usr/local/lib/python3.10/dist-packages (from scikit-learn>=0.22.0->kmodes) (3.5.0)\n",
            "Downloading kmodes-0.12.2-py2.py3-none-any.whl (20 kB)\n",
            "Installing collected packages: kmodes\n",
            "Successfully installed kmodes-0.12.2\n"
          ]
        }
      ],
      "source": [
        "# -*- coding: utf-8 -*-\n",
        "!pip install kmodes"
      ]
    },
    {
      "cell_type": "code",
      "source": [
        "!pip install gower\n",
        "!pip install scikit-learn-extra"
      ],
      "metadata": {
        "colab": {
          "base_uri": "https://localhost:8080/"
        },
        "id": "xj39QGh1kW1M",
        "outputId": "9a7c95a7-0d54-4d63-ded3-04903e01c73e"
      },
      "execution_count": 2,
      "outputs": [
        {
          "output_type": "stream",
          "name": "stdout",
          "text": [
            "Collecting gower\n",
            "  Downloading gower-0.1.2-py3-none-any.whl.metadata (3.7 kB)\n",
            "Requirement already satisfied: numpy in /usr/local/lib/python3.10/dist-packages (from gower) (1.26.4)\n",
            "Requirement already satisfied: scipy in /usr/local/lib/python3.10/dist-packages (from gower) (1.13.1)\n",
            "Downloading gower-0.1.2-py3-none-any.whl (5.2 kB)\n",
            "Installing collected packages: gower\n",
            "Successfully installed gower-0.1.2\n",
            "Collecting scikit-learn-extra\n",
            "  Downloading scikit_learn_extra-0.3.0-cp310-cp310-manylinux_2_17_x86_64.manylinux2014_x86_64.whl.metadata (3.6 kB)\n",
            "Requirement already satisfied: numpy>=1.13.3 in /usr/local/lib/python3.10/dist-packages (from scikit-learn-extra) (1.26.4)\n",
            "Requirement already satisfied: scipy>=0.19.1 in /usr/local/lib/python3.10/dist-packages (from scikit-learn-extra) (1.13.1)\n",
            "Requirement already satisfied: scikit-learn>=0.23.0 in /usr/local/lib/python3.10/dist-packages (from scikit-learn-extra) (1.5.2)\n",
            "Requirement already satisfied: joblib>=1.2.0 in /usr/local/lib/python3.10/dist-packages (from scikit-learn>=0.23.0->scikit-learn-extra) (1.4.2)\n",
            "Requirement already satisfied: threadpoolctl>=3.1.0 in /usr/local/lib/python3.10/dist-packages (from scikit-learn>=0.23.0->scikit-learn-extra) (3.5.0)\n",
            "Downloading scikit_learn_extra-0.3.0-cp310-cp310-manylinux_2_17_x86_64.manylinux2014_x86_64.whl (2.0 MB)\n",
            "\u001b[2K   \u001b[90m━━━━━━━━━━━━━━━━━━━━━━━━━━━━━━━━━━━━━━━━\u001b[0m \u001b[32m2.0/2.0 MB\u001b[0m \u001b[31m19.4 MB/s\u001b[0m eta \u001b[36m0:00:00\u001b[0m\n",
            "\u001b[?25hInstalling collected packages: scikit-learn-extra\n",
            "Successfully installed scikit-learn-extra-0.3.0\n"
          ]
        }
      ]
    },
    {
      "cell_type": "code",
      "execution_count": 1,
      "metadata": {
        "id": "_iMUt5DGaV7Q"
      },
      "outputs": [],
      "source": [
        "import pandas as pd\n",
        "from sklearn.preprocessing import StandardScaler\n",
        "\n",
        "from kmodes.kprototypes import KPrototypes\n",
        "from matplotlib import pyplot as plt\n",
        "import seaborn as sns\n",
        "import colorcet as cc\n",
        "import plotly.express as px\n",
        "from sklearn.decomposition import PCA\n",
        "import numpy as np"
      ]
    },
    {
      "cell_type": "code",
      "source": [
        "!pip install pandas==1.5.3\n",
        "import pandas as pd"
      ],
      "metadata": {
        "colab": {
          "base_uri": "https://localhost:8080/",
          "height": 497
        },
        "id": "hvWUbgZKmycN",
        "outputId": "6d467751-9b72-457e-b069-5e069770f9a0"
      },
      "execution_count": 4,
      "outputs": [
        {
          "output_type": "stream",
          "name": "stdout",
          "text": [
            "Collecting pandas==1.5.3\n",
            "  Downloading pandas-1.5.3-cp310-cp310-manylinux_2_17_x86_64.manylinux2014_x86_64.whl.metadata (11 kB)\n",
            "Requirement already satisfied: python-dateutil>=2.8.1 in /usr/local/lib/python3.10/dist-packages (from pandas==1.5.3) (2.8.2)\n",
            "Requirement already satisfied: pytz>=2020.1 in /usr/local/lib/python3.10/dist-packages (from pandas==1.5.3) (2024.2)\n",
            "Requirement already satisfied: numpy>=1.21.0 in /usr/local/lib/python3.10/dist-packages (from pandas==1.5.3) (1.26.4)\n",
            "Requirement already satisfied: six>=1.5 in /usr/local/lib/python3.10/dist-packages (from python-dateutil>=2.8.1->pandas==1.5.3) (1.17.0)\n",
            "Downloading pandas-1.5.3-cp310-cp310-manylinux_2_17_x86_64.manylinux2014_x86_64.whl (12.1 MB)\n",
            "\u001b[2K   \u001b[90m━━━━━━━━━━━━━━━━━━━━━━━━━━━━━━━━━━━━━━━━\u001b[0m \u001b[32m12.1/12.1 MB\u001b[0m \u001b[31m21.2 MB/s\u001b[0m eta \u001b[36m0:00:00\u001b[0m\n",
            "\u001b[?25hInstalling collected packages: pandas\n",
            "  Attempting uninstall: pandas\n",
            "    Found existing installation: pandas 2.2.2\n",
            "    Uninstalling pandas-2.2.2:\n",
            "      Successfully uninstalled pandas-2.2.2\n",
            "\u001b[31mERROR: pip's dependency resolver does not currently take into account all the packages that are installed. This behaviour is the source of the following dependency conflicts.\n",
            "cudf-cu12 24.10.1 requires pandas<2.2.3dev0,>=2.0, but you have pandas 1.5.3 which is incompatible.\n",
            "google-colab 1.0.0 requires pandas==2.2.2, but you have pandas 1.5.3 which is incompatible.\n",
            "mizani 0.13.1 requires pandas>=2.2.0, but you have pandas 1.5.3 which is incompatible.\n",
            "plotnine 0.14.3 requires pandas>=2.2.0, but you have pandas 1.5.3 which is incompatible.\n",
            "xarray 2024.10.0 requires pandas>=2.1, but you have pandas 1.5.3 which is incompatible.\u001b[0m\u001b[31m\n",
            "\u001b[0mSuccessfully installed pandas-1.5.3\n"
          ]
        },
        {
          "output_type": "display_data",
          "data": {
            "application/vnd.colab-display-data+json": {
              "pip_warning": {
                "packages": [
                  "pandas"
                ]
              },
              "id": "dec62a23ce9d49b4a4f19d12d13efe37"
            }
          },
          "metadata": {}
        }
      ]
    },
    {
      "cell_type": "code",
      "source": [
        "!pip install -U kaleido"
      ],
      "metadata": {
        "colab": {
          "base_uri": "https://localhost:8080/"
        },
        "id": "mvZBRGu6Nc-S",
        "outputId": "918f79b8-90d5-4dc3-fb2f-999963777e35"
      },
      "execution_count": 2,
      "outputs": [
        {
          "output_type": "stream",
          "name": "stdout",
          "text": [
            "Collecting kaleido\n",
            "  Using cached kaleido-0.2.1-py2.py3-none-manylinux1_x86_64.whl.metadata (15 kB)\n",
            "Downloading kaleido-0.2.1-py2.py3-none-manylinux1_x86_64.whl (79.9 MB)\n",
            "\u001b[2K   \u001b[90m━━━━━━━━━━━━━━━━━━━━━━━━━━━━━━━━━━━━━━━━\u001b[0m \u001b[32m79.9/79.9 MB\u001b[0m \u001b[31m7.7 MB/s\u001b[0m eta \u001b[36m0:00:00\u001b[0m\n",
            "\u001b[?25hInstalling collected packages: kaleido\n",
            "Successfully installed kaleido-0.2.1\n"
          ]
        }
      ]
    },
    {
      "cell_type": "markdown",
      "source": [
        "# k-prototypes"
      ],
      "metadata": {
        "id": "DIOBX9tuz6zg"
      }
    },
    {
      "cell_type": "markdown",
      "metadata": {
        "id": "ANYuwwiaaV7Q"
      },
      "source": [
        "Load data"
      ]
    },
    {
      "cell_type": "code",
      "execution_count": 77,
      "metadata": {
        "id": "o6K51V0waV7R"
      },
      "outputs": [],
      "source": [
        "all_features_final = pd.read_csv(r'all_features_fin.csv', sep='\\t')\n",
        "for_clustering = all_features_final.copy()\n",
        "X = for_clustering.drop(['doc_names', 'group'], axis=1)"
      ]
    },
    {
      "cell_type": "markdown",
      "metadata": {
        "id": "kmp18wyDaV7S"
      },
      "source": [
        "Step 1: Prepare the data<br>\n",
        "Separate the categorical and numerical columns"
      ]
    },
    {
      "cell_type": "code",
      "execution_count": 78,
      "metadata": {
        "id": "rWqfAPAiaV7S"
      },
      "outputs": [],
      "source": [
        "categorical_columns = ['adj_bissch','adj_bisschen','adj_dunkel','adj_gewiß','adj_gleich','adj_preussisch','adj_richtig','adj_rot','noun_','noun_angst','noun_auto','noun_bauer','noun_bein','noun_bett','noun_cresspahl','noun_dorf','noun_dorfe','noun_dr','noun_erkenntnis','noun_essen','noun_gefühl','noun_geld','noun_geruch','noun_gesin','noun_haut','noun_idee','noun_junge','noun_kaffee','noun_kerl','noun_knecht','noun_krieg','noun_könig','noun_körper','noun_land','noun_majestät','noun_marie','noun_masse','noun_meer','noun_nase','noun_person','noun_reich','noun_s','noun_satz','noun_schiff','noun_schule','noun_sonntag','noun_stube','noun_telefon','noun_tier','noun_vorstellung','noun_weile','noun_zeitung','noun_zigarette','noun_zigarre','noun_zimmer','verb_bekommen','verb_bestehen','verb_blicken','verb_drehen','verb_entstehen','verb_erinnern','verb_kriegen','verb_laufen','verb_merken','verb_nachdenken','verb_reden','verb_schaun','verb_schreien','verb_spüren','verb_töten','verb_wachsen','verb_warten','verb_weisen','verb_überlegen']  # You can add other categorical columns here if needed\n",
        "numerical_columns = X.columns[0:36]  # All other columns"
      ]
    },
    {
      "cell_type": "code",
      "execution_count": 79,
      "metadata": {
        "id": "bey9W_ySaV7S"
      },
      "outputs": [],
      "source": [
        "X_categorical = X[categorical_columns]\n",
        "X_numerical = X[numerical_columns]"
      ]
    },
    {
      "cell_type": "markdown",
      "metadata": {
        "id": "zKlSz6KgaV7T"
      },
      "source": [
        "Scale the numerical columns"
      ]
    },
    {
      "cell_type": "code",
      "execution_count": 84,
      "metadata": {
        "id": "ic-a-zSuaV7T"
      },
      "outputs": [],
      "source": [
        "from sklearn.preprocessing import RobustScaler\n",
        "from sklearn.preprocessing import MinMaxScaler\n",
        "\n",
        "#scaler = StandardScaler()\n",
        "#scaler = RobustScaler()\n",
        "scaler = MinMaxScaler()\n",
        "X_numerical_scaled = scaler.fit_transform(X_numerical)\n",
        "\n",
        "#X_numerical_scaled = X_numerical"
      ]
    },
    {
      "cell_type": "markdown",
      "metadata": {
        "id": "jpBCcxgtaV7T"
      },
      "source": [
        "Concatenate the scaled numerical features with the categorical features"
      ]
    },
    {
      "cell_type": "code",
      "execution_count": 85,
      "metadata": {
        "id": "VZrDMxrpaV7T"
      },
      "outputs": [],
      "source": [
        "X_combined = pd.concat([pd.DataFrame(X_numerical_scaled, columns=numerical_columns),\n",
        "                        X_categorical.reset_index(drop=True)], axis=1)"
      ]
    },
    {
      "cell_type": "code",
      "source": [
        "X_combined.head()"
      ],
      "metadata": {
        "colab": {
          "base_uri": "https://localhost:8080/",
          "height": 273
        },
        "id": "LJlqGbQUSDeB",
        "outputId": "5bd33bab-a204-4618-dce4-92051d0b69ab"
      },
      "execution_count": 86,
      "outputs": [
        {
          "output_type": "execute_result",
          "data": {
            "text/plain": [
              "   Harmonic-Disharmonic  Healthy-ill  Natural-Cultural      None  \\\n",
              "0              0.148129     0.301336          0.280056  0.700320   \n",
              "1              0.148129     0.301336          0.280056  0.700320   \n",
              "2              0.082478     0.087822          0.136870  0.892519   \n",
              "3              0.082478     0.087822          0.136870  0.892519   \n",
              "4              0.233925     0.227707          0.377244  0.570381   \n",
              "\n",
              "   Profound-Superficial  Traditional-Modern   topic_0   topic_1   topic_2  \\\n",
              "0              0.238872            0.142479  0.162974  0.648410  0.032503   \n",
              "1              0.238872            0.142479  0.162974  0.648410  0.032503   \n",
              "2              0.160660            0.122351  0.173995  0.481670  0.115291   \n",
              "3              0.160660            0.122351  0.173995  0.481670  0.115291   \n",
              "4              0.574244            0.135745  0.059483  0.303683  0.321076   \n",
              "\n",
              "    topic_3  ...  verb_nachdenken  verb_reden  verb_schaun  verb_schreien  \\\n",
              "0  0.019809  ...              0.0         1.0          1.0            1.0   \n",
              "1  0.019809  ...              0.0         1.0          1.0            1.0   \n",
              "2  0.467184  ...              0.0         0.0          0.0            0.0   \n",
              "3  0.467184  ...              0.0         0.0          0.0            0.0   \n",
              "4  0.279425  ...              0.0         0.0          0.0            0.0   \n",
              "\n",
              "   verb_spüren  verb_töten  verb_wachsen  verb_warten  verb_weisen  \\\n",
              "0          1.0         0.0           0.0          1.0          0.0   \n",
              "1          1.0         0.0           0.0          1.0          0.0   \n",
              "2          0.0         0.0           0.0          1.0          0.0   \n",
              "3          0.0         0.0           0.0          1.0          0.0   \n",
              "4          1.0         0.0           0.0          0.0          0.0   \n",
              "\n",
              "   verb_überlegen  \n",
              "0             0.0  \n",
              "1             0.0  \n",
              "2             0.0  \n",
              "3             0.0  \n",
              "4             0.0  \n",
              "\n",
              "[5 rows x 110 columns]"
            ],
            "text/html": [
              "\n",
              "  <div id=\"df-b490d897-62b6-4e78-ba30-692fed0725ad\" class=\"colab-df-container\">\n",
              "    <div>\n",
              "<style scoped>\n",
              "    .dataframe tbody tr th:only-of-type {\n",
              "        vertical-align: middle;\n",
              "    }\n",
              "\n",
              "    .dataframe tbody tr th {\n",
              "        vertical-align: top;\n",
              "    }\n",
              "\n",
              "    .dataframe thead th {\n",
              "        text-align: right;\n",
              "    }\n",
              "</style>\n",
              "<table border=\"1\" class=\"dataframe\">\n",
              "  <thead>\n",
              "    <tr style=\"text-align: right;\">\n",
              "      <th></th>\n",
              "      <th>Harmonic-Disharmonic</th>\n",
              "      <th>Healthy-ill</th>\n",
              "      <th>Natural-Cultural</th>\n",
              "      <th>None</th>\n",
              "      <th>Profound-Superficial</th>\n",
              "      <th>Traditional-Modern</th>\n",
              "      <th>topic_0</th>\n",
              "      <th>topic_1</th>\n",
              "      <th>topic_2</th>\n",
              "      <th>topic_3</th>\n",
              "      <th>...</th>\n",
              "      <th>verb_nachdenken</th>\n",
              "      <th>verb_reden</th>\n",
              "      <th>verb_schaun</th>\n",
              "      <th>verb_schreien</th>\n",
              "      <th>verb_spüren</th>\n",
              "      <th>verb_töten</th>\n",
              "      <th>verb_wachsen</th>\n",
              "      <th>verb_warten</th>\n",
              "      <th>verb_weisen</th>\n",
              "      <th>verb_überlegen</th>\n",
              "    </tr>\n",
              "  </thead>\n",
              "  <tbody>\n",
              "    <tr>\n",
              "      <th>0</th>\n",
              "      <td>0.148129</td>\n",
              "      <td>0.301336</td>\n",
              "      <td>0.280056</td>\n",
              "      <td>0.700320</td>\n",
              "      <td>0.238872</td>\n",
              "      <td>0.142479</td>\n",
              "      <td>0.162974</td>\n",
              "      <td>0.648410</td>\n",
              "      <td>0.032503</td>\n",
              "      <td>0.019809</td>\n",
              "      <td>...</td>\n",
              "      <td>0.0</td>\n",
              "      <td>1.0</td>\n",
              "      <td>1.0</td>\n",
              "      <td>1.0</td>\n",
              "      <td>1.0</td>\n",
              "      <td>0.0</td>\n",
              "      <td>0.0</td>\n",
              "      <td>1.0</td>\n",
              "      <td>0.0</td>\n",
              "      <td>0.0</td>\n",
              "    </tr>\n",
              "    <tr>\n",
              "      <th>1</th>\n",
              "      <td>0.148129</td>\n",
              "      <td>0.301336</td>\n",
              "      <td>0.280056</td>\n",
              "      <td>0.700320</td>\n",
              "      <td>0.238872</td>\n",
              "      <td>0.142479</td>\n",
              "      <td>0.162974</td>\n",
              "      <td>0.648410</td>\n",
              "      <td>0.032503</td>\n",
              "      <td>0.019809</td>\n",
              "      <td>...</td>\n",
              "      <td>0.0</td>\n",
              "      <td>1.0</td>\n",
              "      <td>1.0</td>\n",
              "      <td>1.0</td>\n",
              "      <td>1.0</td>\n",
              "      <td>0.0</td>\n",
              "      <td>0.0</td>\n",
              "      <td>1.0</td>\n",
              "      <td>0.0</td>\n",
              "      <td>0.0</td>\n",
              "    </tr>\n",
              "    <tr>\n",
              "      <th>2</th>\n",
              "      <td>0.082478</td>\n",
              "      <td>0.087822</td>\n",
              "      <td>0.136870</td>\n",
              "      <td>0.892519</td>\n",
              "      <td>0.160660</td>\n",
              "      <td>0.122351</td>\n",
              "      <td>0.173995</td>\n",
              "      <td>0.481670</td>\n",
              "      <td>0.115291</td>\n",
              "      <td>0.467184</td>\n",
              "      <td>...</td>\n",
              "      <td>0.0</td>\n",
              "      <td>0.0</td>\n",
              "      <td>0.0</td>\n",
              "      <td>0.0</td>\n",
              "      <td>0.0</td>\n",
              "      <td>0.0</td>\n",
              "      <td>0.0</td>\n",
              "      <td>1.0</td>\n",
              "      <td>0.0</td>\n",
              "      <td>0.0</td>\n",
              "    </tr>\n",
              "    <tr>\n",
              "      <th>3</th>\n",
              "      <td>0.082478</td>\n",
              "      <td>0.087822</td>\n",
              "      <td>0.136870</td>\n",
              "      <td>0.892519</td>\n",
              "      <td>0.160660</td>\n",
              "      <td>0.122351</td>\n",
              "      <td>0.173995</td>\n",
              "      <td>0.481670</td>\n",
              "      <td>0.115291</td>\n",
              "      <td>0.467184</td>\n",
              "      <td>...</td>\n",
              "      <td>0.0</td>\n",
              "      <td>0.0</td>\n",
              "      <td>0.0</td>\n",
              "      <td>0.0</td>\n",
              "      <td>0.0</td>\n",
              "      <td>0.0</td>\n",
              "      <td>0.0</td>\n",
              "      <td>1.0</td>\n",
              "      <td>0.0</td>\n",
              "      <td>0.0</td>\n",
              "    </tr>\n",
              "    <tr>\n",
              "      <th>4</th>\n",
              "      <td>0.233925</td>\n",
              "      <td>0.227707</td>\n",
              "      <td>0.377244</td>\n",
              "      <td>0.570381</td>\n",
              "      <td>0.574244</td>\n",
              "      <td>0.135745</td>\n",
              "      <td>0.059483</td>\n",
              "      <td>0.303683</td>\n",
              "      <td>0.321076</td>\n",
              "      <td>0.279425</td>\n",
              "      <td>...</td>\n",
              "      <td>0.0</td>\n",
              "      <td>0.0</td>\n",
              "      <td>0.0</td>\n",
              "      <td>0.0</td>\n",
              "      <td>1.0</td>\n",
              "      <td>0.0</td>\n",
              "      <td>0.0</td>\n",
              "      <td>0.0</td>\n",
              "      <td>0.0</td>\n",
              "      <td>0.0</td>\n",
              "    </tr>\n",
              "  </tbody>\n",
              "</table>\n",
              "<p>5 rows × 110 columns</p>\n",
              "</div>\n",
              "    <div class=\"colab-df-buttons\">\n",
              "\n",
              "  <div class=\"colab-df-container\">\n",
              "    <button class=\"colab-df-convert\" onclick=\"convertToInteractive('df-b490d897-62b6-4e78-ba30-692fed0725ad')\"\n",
              "            title=\"Convert this dataframe to an interactive table.\"\n",
              "            style=\"display:none;\">\n",
              "\n",
              "  <svg xmlns=\"http://www.w3.org/2000/svg\" height=\"24px\" viewBox=\"0 -960 960 960\">\n",
              "    <path d=\"M120-120v-720h720v720H120Zm60-500h600v-160H180v160Zm220 220h160v-160H400v160Zm0 220h160v-160H400v160ZM180-400h160v-160H180v160Zm440 0h160v-160H620v160ZM180-180h160v-160H180v160Zm440 0h160v-160H620v160Z\"/>\n",
              "  </svg>\n",
              "    </button>\n",
              "\n",
              "  <style>\n",
              "    .colab-df-container {\n",
              "      display:flex;\n",
              "      gap: 12px;\n",
              "    }\n",
              "\n",
              "    .colab-df-convert {\n",
              "      background-color: #E8F0FE;\n",
              "      border: none;\n",
              "      border-radius: 50%;\n",
              "      cursor: pointer;\n",
              "      display: none;\n",
              "      fill: #1967D2;\n",
              "      height: 32px;\n",
              "      padding: 0 0 0 0;\n",
              "      width: 32px;\n",
              "    }\n",
              "\n",
              "    .colab-df-convert:hover {\n",
              "      background-color: #E2EBFA;\n",
              "      box-shadow: 0px 1px 2px rgba(60, 64, 67, 0.3), 0px 1px 3px 1px rgba(60, 64, 67, 0.15);\n",
              "      fill: #174EA6;\n",
              "    }\n",
              "\n",
              "    .colab-df-buttons div {\n",
              "      margin-bottom: 4px;\n",
              "    }\n",
              "\n",
              "    [theme=dark] .colab-df-convert {\n",
              "      background-color: #3B4455;\n",
              "      fill: #D2E3FC;\n",
              "    }\n",
              "\n",
              "    [theme=dark] .colab-df-convert:hover {\n",
              "      background-color: #434B5C;\n",
              "      box-shadow: 0px 1px 3px 1px rgba(0, 0, 0, 0.15);\n",
              "      filter: drop-shadow(0px 1px 2px rgba(0, 0, 0, 0.3));\n",
              "      fill: #FFFFFF;\n",
              "    }\n",
              "  </style>\n",
              "\n",
              "    <script>\n",
              "      const buttonEl =\n",
              "        document.querySelector('#df-b490d897-62b6-4e78-ba30-692fed0725ad button.colab-df-convert');\n",
              "      buttonEl.style.display =\n",
              "        google.colab.kernel.accessAllowed ? 'block' : 'none';\n",
              "\n",
              "      async function convertToInteractive(key) {\n",
              "        const element = document.querySelector('#df-b490d897-62b6-4e78-ba30-692fed0725ad');\n",
              "        const dataTable =\n",
              "          await google.colab.kernel.invokeFunction('convertToInteractive',\n",
              "                                                    [key], {});\n",
              "        if (!dataTable) return;\n",
              "\n",
              "        const docLinkHtml = 'Like what you see? Visit the ' +\n",
              "          '<a target=\"_blank\" href=https://colab.research.google.com/notebooks/data_table.ipynb>data table notebook</a>'\n",
              "          + ' to learn more about interactive tables.';\n",
              "        element.innerHTML = '';\n",
              "        dataTable['output_type'] = 'display_data';\n",
              "        await google.colab.output.renderOutput(dataTable, element);\n",
              "        const docLink = document.createElement('div');\n",
              "        docLink.innerHTML = docLinkHtml;\n",
              "        element.appendChild(docLink);\n",
              "      }\n",
              "    </script>\n",
              "  </div>\n",
              "\n",
              "\n",
              "<div id=\"df-63454bcd-fa92-460d-8595-3fce29080518\">\n",
              "  <button class=\"colab-df-quickchart\" onclick=\"quickchart('df-63454bcd-fa92-460d-8595-3fce29080518')\"\n",
              "            title=\"Suggest charts\"\n",
              "            style=\"display:none;\">\n",
              "\n",
              "<svg xmlns=\"http://www.w3.org/2000/svg\" height=\"24px\"viewBox=\"0 0 24 24\"\n",
              "     width=\"24px\">\n",
              "    <g>\n",
              "        <path d=\"M19 3H5c-1.1 0-2 .9-2 2v14c0 1.1.9 2 2 2h14c1.1 0 2-.9 2-2V5c0-1.1-.9-2-2-2zM9 17H7v-7h2v7zm4 0h-2V7h2v10zm4 0h-2v-4h2v4z\"/>\n",
              "    </g>\n",
              "</svg>\n",
              "  </button>\n",
              "\n",
              "<style>\n",
              "  .colab-df-quickchart {\n",
              "      --bg-color: #E8F0FE;\n",
              "      --fill-color: #1967D2;\n",
              "      --hover-bg-color: #E2EBFA;\n",
              "      --hover-fill-color: #174EA6;\n",
              "      --disabled-fill-color: #AAA;\n",
              "      --disabled-bg-color: #DDD;\n",
              "  }\n",
              "\n",
              "  [theme=dark] .colab-df-quickchart {\n",
              "      --bg-color: #3B4455;\n",
              "      --fill-color: #D2E3FC;\n",
              "      --hover-bg-color: #434B5C;\n",
              "      --hover-fill-color: #FFFFFF;\n",
              "      --disabled-bg-color: #3B4455;\n",
              "      --disabled-fill-color: #666;\n",
              "  }\n",
              "\n",
              "  .colab-df-quickchart {\n",
              "    background-color: var(--bg-color);\n",
              "    border: none;\n",
              "    border-radius: 50%;\n",
              "    cursor: pointer;\n",
              "    display: none;\n",
              "    fill: var(--fill-color);\n",
              "    height: 32px;\n",
              "    padding: 0;\n",
              "    width: 32px;\n",
              "  }\n",
              "\n",
              "  .colab-df-quickchart:hover {\n",
              "    background-color: var(--hover-bg-color);\n",
              "    box-shadow: 0 1px 2px rgba(60, 64, 67, 0.3), 0 1px 3px 1px rgba(60, 64, 67, 0.15);\n",
              "    fill: var(--button-hover-fill-color);\n",
              "  }\n",
              "\n",
              "  .colab-df-quickchart-complete:disabled,\n",
              "  .colab-df-quickchart-complete:disabled:hover {\n",
              "    background-color: var(--disabled-bg-color);\n",
              "    fill: var(--disabled-fill-color);\n",
              "    box-shadow: none;\n",
              "  }\n",
              "\n",
              "  .colab-df-spinner {\n",
              "    border: 2px solid var(--fill-color);\n",
              "    border-color: transparent;\n",
              "    border-bottom-color: var(--fill-color);\n",
              "    animation:\n",
              "      spin 1s steps(1) infinite;\n",
              "  }\n",
              "\n",
              "  @keyframes spin {\n",
              "    0% {\n",
              "      border-color: transparent;\n",
              "      border-bottom-color: var(--fill-color);\n",
              "      border-left-color: var(--fill-color);\n",
              "    }\n",
              "    20% {\n",
              "      border-color: transparent;\n",
              "      border-left-color: var(--fill-color);\n",
              "      border-top-color: var(--fill-color);\n",
              "    }\n",
              "    30% {\n",
              "      border-color: transparent;\n",
              "      border-left-color: var(--fill-color);\n",
              "      border-top-color: var(--fill-color);\n",
              "      border-right-color: var(--fill-color);\n",
              "    }\n",
              "    40% {\n",
              "      border-color: transparent;\n",
              "      border-right-color: var(--fill-color);\n",
              "      border-top-color: var(--fill-color);\n",
              "    }\n",
              "    60% {\n",
              "      border-color: transparent;\n",
              "      border-right-color: var(--fill-color);\n",
              "    }\n",
              "    80% {\n",
              "      border-color: transparent;\n",
              "      border-right-color: var(--fill-color);\n",
              "      border-bottom-color: var(--fill-color);\n",
              "    }\n",
              "    90% {\n",
              "      border-color: transparent;\n",
              "      border-bottom-color: var(--fill-color);\n",
              "    }\n",
              "  }\n",
              "</style>\n",
              "\n",
              "  <script>\n",
              "    async function quickchart(key) {\n",
              "      const quickchartButtonEl =\n",
              "        document.querySelector('#' + key + ' button');\n",
              "      quickchartButtonEl.disabled = true;  // To prevent multiple clicks.\n",
              "      quickchartButtonEl.classList.add('colab-df-spinner');\n",
              "      try {\n",
              "        const charts = await google.colab.kernel.invokeFunction(\n",
              "            'suggestCharts', [key], {});\n",
              "      } catch (error) {\n",
              "        console.error('Error during call to suggestCharts:', error);\n",
              "      }\n",
              "      quickchartButtonEl.classList.remove('colab-df-spinner');\n",
              "      quickchartButtonEl.classList.add('colab-df-quickchart-complete');\n",
              "    }\n",
              "    (() => {\n",
              "      let quickchartButtonEl =\n",
              "        document.querySelector('#df-63454bcd-fa92-460d-8595-3fce29080518 button');\n",
              "      quickchartButtonEl.style.display =\n",
              "        google.colab.kernel.accessAllowed ? 'block' : 'none';\n",
              "    })();\n",
              "  </script>\n",
              "</div>\n",
              "\n",
              "    </div>\n",
              "  </div>\n"
            ],
            "application/vnd.google.colaboratory.intrinsic+json": {
              "type": "dataframe",
              "variable_name": "X_combined"
            }
          },
          "metadata": {},
          "execution_count": 86
        }
      ]
    },
    {
      "cell_type": "code",
      "source": [
        "def column_index(df, query_cols):\n",
        "  '''\n",
        "  returns the indices of the query_cols\n",
        "  '''\n",
        "  cols = df.columns.values\n",
        "  sidx = np.argsort(cols)\n",
        "  return sidx[np.searchsorted(cols,query_cols,sorter=sidx)]\n",
        "\n",
        "\n",
        "cat_cols = X_combined.select_dtypes(include='object')\n",
        "categorical_indices = column_index(X_combined, categorical_columns)\n",
        "categorical = list(categorical_indices)\n",
        "print(categorical)"
      ],
      "metadata": {
        "colab": {
          "base_uri": "https://localhost:8080/"
        },
        "id": "2PrW1fKuTywp",
        "outputId": "2b89759f-f28d-4cec-dee0-7eadbf398be2"
      },
      "execution_count": 87,
      "outputs": [
        {
          "output_type": "stream",
          "name": "stdout",
          "text": [
            "[36, 37, 38, 39, 40, 41, 42, 43, 44, 45, 46, 47, 48, 49, 50, 51, 52, 53, 54, 55, 56, 57, 58, 59, 60, 61, 62, 63, 64, 65, 66, 67, 68, 69, 70, 71, 72, 73, 74, 75, 76, 77, 78, 79, 80, 81, 82, 83, 84, 85, 86, 87, 88, 89, 90, 91, 92, 93, 94, 95, 96, 97, 98, 99, 100, 101, 102, 103, 104, 105, 106, 107, 108, 109]\n"
          ]
        }
      ]
    },
    {
      "cell_type": "markdown",
      "metadata": {
        "id": "LACJX2YHaV7U"
      },
      "source": [
        "Step 2: Determine the optimal number of clusters using the Elbow Method"
      ]
    },
    {
      "cell_type": "code",
      "execution_count": 88,
      "metadata": {
        "id": "_5L8Ps4eaV7U"
      },
      "outputs": [],
      "source": [
        "cost = []\n",
        "cluster_range = range(2, 10)"
      ]
    },
    {
      "cell_type": "code",
      "execution_count": 89,
      "metadata": {
        "id": "DmJMlhdmaV7U"
      },
      "outputs": [],
      "source": [
        "\"\"\"\n",
        "for n_clusters in cluster_range:\n",
        "    kproto = KPrototypes(n_clusters=n_clusters, random_state=42)\n",
        "    clusters = kproto.fit_predict(X_combined, categorical=[len(X_numerical.columns)])  # Indicate which columns are categorical\n",
        "    cost.append(kproto.cost_)\n",
        "\"\"\"\n",
        "\n",
        "#categorical_indices = list(range(len(categorical_columns)))\n",
        "\n",
        "for n_clusters in cluster_range:\n",
        "    kproto = KPrototypes(n_clusters=n_clusters, random_state=42, init='Cao')\n",
        "    clusters = kproto.fit_predict(X_combined, categorical=categorical)  # Indicate which columns are categorical\n",
        "    cost.append(kproto.cost_)\n"
      ]
    },
    {
      "cell_type": "markdown",
      "metadata": {
        "id": "wPww40bvaV7U"
      },
      "source": [
        "Plot the cost (Elbow Method)"
      ]
    },
    {
      "cell_type": "code",
      "execution_count": 90,
      "metadata": {
        "colab": {
          "base_uri": "https://localhost:8080/",
          "height": 487
        },
        "id": "WLe7SUeOaV7V",
        "outputId": "d90326f9-1fa8-4289-dff1-90764cde4a73"
      },
      "outputs": [
        {
          "output_type": "display_data",
          "data": {
            "text/plain": [
              "<Figure size 800x500 with 1 Axes>"
            ],
            "image/png": "[encoded data removed]"
          },
          "metadata": {}
        }
      ],
      "source": [
        "plt.figure(figsize=(8, 5))\n",
        "plt.plot(cluster_range, cost, marker='o', linestyle='-')\n",
        "plt.xlabel('Number of Clusters')\n",
        "plt.ylabel('Cost')\n",
        "plt.title('Elbow Method for Optimal K (K-Prototypes)')\n",
        "plt.show()"
      ]
    },
    {
      "cell_type": "markdown",
      "metadata": {
        "id": "ICiPRgz9aV7V"
      },
      "source": [
        "Step 3: Perform K-Prototypes clustering with the optimal number of clusters"
      ]
    },
    {
      "cell_type": "code",
      "execution_count": 128,
      "metadata": {
        "id": "WspKL-JwaV7V"
      },
      "outputs": [],
      "source": [
        "optimal_k = 6\n",
        "kproto = KPrototypes(n_clusters=optimal_k, random_state=42, init='Cao')\n",
        "clusters = kproto.fit_predict(X_combined, categorical=categorical)"
      ]
    },
    {
      "cell_type": "markdown",
      "metadata": {
        "id": "6QOIzhnGaV7V"
      },
      "source": [
        "Add the cluster labels to the original data"
      ]
    },
    {
      "cell_type": "code",
      "execution_count": 129,
      "metadata": {
        "id": "coy-p7QWaV7V"
      },
      "outputs": [],
      "source": [
        "for_clustering['kproto_cluster'] = clusters"
      ]
    },
    {
      "cell_type": "markdown",
      "metadata": {
        "id": "kpqKXhmxaV7V"
      },
      "source": [
        "ount no. of texts in each cluster"
      ]
    },
    {
      "cell_type": "code",
      "execution_count": 130,
      "metadata": {
        "id": "0AZrmdpKaV7V"
      },
      "outputs": [],
      "source": [
        "groups = sorted(list(set(for_clustering['group'].tolist())))"
      ]
    },
    {
      "cell_type": "markdown",
      "source": [],
      "metadata": {
        "id": "lOPO9fochd-d"
      }
    },
    {
      "cell_type": "code",
      "execution_count": 131,
      "metadata": {
        "id": "R7O-P-gDaV7V"
      },
      "outputs": [],
      "source": [
        "counts = []\n",
        "for group in groups:\n",
        "    df_group = for_clustering[for_clustering['group'] == group].copy()\n",
        "    x = 0\n",
        "    while x < 6:\n",
        "        df_cluster = df_group[df_group['kproto_cluster'] == x]\n",
        "        count = len(df_cluster)\n",
        "        counts.append((group, 'cluster'+str(x+1), count))\n",
        "        x+=1"
      ]
    },
    {
      "cell_type": "code",
      "execution_count": 132,
      "metadata": {
        "id": "F4PcW0ZbaV7V"
      },
      "outputs": [],
      "source": [
        "df_counts = pd.DataFrame(counts, columns=['group', 'cluster', 'count'])"
      ]
    },
    {
      "cell_type": "code",
      "execution_count": 133,
      "metadata": {
        "id": "63JOBvThaV7W"
      },
      "outputs": [],
      "source": [
        "fig = px.sunburst(df_counts, path=['cluster', 'group'], values='count')"
      ]
    },
    {
      "cell_type": "code",
      "source": [
        "import kaleido"
      ],
      "metadata": {
        "id": "uS8eHXlmMPpf"
      },
      "execution_count": 134,
      "outputs": []
    },
    {
      "cell_type": "code",
      "execution_count": 135,
      "metadata": {
        "id": "p-6-UkXAaV7W"
      },
      "outputs": [],
      "source": [
        "fig.update_layout(\n",
        "    font=dict(\n",
        "        size=100\n",
        "        )\n",
        ")\n",
        "#fig.write_html(r\"F:\\Kritik_projekt\\results\\clustering_new.html\")\n",
        "fig.write_image(r\"Fig12.jpg\", width=7.5*600, height=7.5*600)"
      ]
    },
    {
      "cell_type": "markdown",
      "metadata": {
        "id": "C9DSgc5EaV7W"
      },
      "source": [
        "Step 4: Visualize clusters (optional, since categorical data is involved)<br>\n",
        "Reduce dimensionality for visualization"
      ]
    },
    {
      "cell_type": "code",
      "source": [],
      "metadata": {
        "id": "Z0_1BfrRrnrb"
      },
      "execution_count": 135,
      "outputs": []
    },
    {
      "cell_type": "code",
      "execution_count": 136,
      "metadata": {
        "id": "EpMmsoLhaV7W"
      },
      "outputs": [],
      "source": [
        "pca = PCA(n_components=2)\n",
        "X_pca = pca.fit_transform(X_combined)"
      ]
    },
    {
      "cell_type": "code",
      "execution_count": 137,
      "metadata": {
        "id": "b2Zco7zeaV7W"
      },
      "outputs": [],
      "source": [
        "palette = sns.color_palette(cc.glasbey, n_colors=13)"
      ]
    },
    {
      "cell_type": "code",
      "execution_count": 138,
      "metadata": {
        "colab": {
          "base_uri": "https://localhost:8080/",
          "height": 748
        },
        "id": "Qp26oziaaV7W",
        "outputId": "e746ffd8-3107-4f2c-e988-0b1e2c6c80d5"
      },
      "outputs": [
        {
          "output_type": "stream",
          "name": "stderr",
          "text": [
            "<ipython-input-138-c325cbb31ec1>:2: UserWarning:\n",
            "\n",
            "The palette list has more values (13) than needed (11), which may not be intended.\n",
            "\n"
          ]
        },
        {
          "output_type": "display_data",
          "data": {
            "text/plain": [
              "<Figure size 1000x800 with 1 Axes>"
            ],
            "image/png": "[encoded data removed]"
          },
          "metadata": {}
        }
      ],
      "source": [
        "plt.figure(figsize=(10, 8))\n",
        "g=sns.scatterplot(\n",
        "    x=X_pca[:, 0], y=X_pca[:, 1],\n",
        "    hue=for_clustering['group'],\n",
        "    palette=palette,\n",
        "    style=for_clustering['kproto_cluster'],\n",
        "    s=60, alpha=0.8, edgecolor='k'\n",
        ")"
      ]
    },
    {
      "cell_type": "code",
      "source": [],
      "metadata": {
        "id": "aB8Gz7ZGrpfD"
      },
      "execution_count": null,
      "outputs": []
    }
  ],
  "metadata": {
    "kernelspec": {
      "display_name": "Python 3",
      "language": "python",
      "name": "python3"
    },
    "language_info": {
      "codemirror_mode": {
        "name": "ipython",
        "version": 3
      },
      "file_extension": ".py",
      "mimetype": "text/x-python",
      "name": "python",
      "nbconvert_exporter": "python",
      "pygments_lexer": "ipython3",
      "version": "3.6.4"
    },
    "colab": {
      "provenance": [],
      "include_colab_link": true
    }
  },
  "nbformat": 4,
  "nbformat_minor": 0
}