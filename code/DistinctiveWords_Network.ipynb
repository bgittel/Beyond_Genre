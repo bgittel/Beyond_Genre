{
 "cells": [
  {
   "cell_type": "code",
   "execution_count": 2,
   "id": "a13cb7b6-4337-4ec1-a922-5666769dc235",
   "metadata": {},
   "outputs": [],
   "source": [
    "import pandas as pd\n",
    "import os\n",
    "from pyvis.network import Network\n",
    "\n",
    "df_path = r'F:\\Kritik_projekt\\MostDistinvtiveWords\\results'\n",
    "dfs = sorted([os.path.join(df_path, fn) for fn in os.listdir(df_path) if \".csv\" in fn])\n",
    "\n",
    "all_top_words = []\n",
    "top_n = 10\n",
    "\n",
    "for df in dfs:\n",
    "    data = pd.read_csv(df, sep='\\t')\n",
    "    data.rename(columns={'Unnamed: 0':'words'}, inplace=True)\n",
    "    top_words_idx = []\n",
    "    idx = 0\n",
    "    while len(top_words_idx) < top_n:\n",
    "        word = data.iloc[[idx]]['words'].item()\n",
    "        if 'noun_' in word: \n",
    "            top_words_idx.append(idx)\n",
    "        if 'adj_' in word:\n",
    "            top_words_idx.append(idx)\n",
    "        if 'verb_' in word:\n",
    "            top_words_idx.append(idx)\n",
    "        idx += 1\n",
    "    group_name = os.path.basename(df).split('_')[2]\n",
    "    for index in top_words_idx:\n",
    "        all_top_words.append((group_name, data.iloc[[index]]['words'].item(), data.iloc[[index]]['zeta_sd2'].item()))\n",
    "\n",
    "top_words_df = pd.DataFrame(all_top_words, columns=['text_group', 'top_words', 'zeta_value'])\n",
    "\n",
    "# replace names\n",
    "replacement_dict = {\n",
    "    'zeitkriCategorical': 'critique of the present', \n",
    "    'gesellschaftskriCategorical': 'society critique', \n",
    "    'sozialkriCategorical': 'social critique', \n",
    "    'kulturkriCategorical': 'cultural critique', \n",
    "    'modernekriCategorical': 'modernity critique', \n",
    "    'zivilisationskriCategorical': 'civilisation critique', \n",
    "    'fortschrittskriCategorical': 'progress critique', \n",
    "    'WorldviewLiteratureCategorical': 'worldview literature',\n",
    "    'ConservativeRevolutionCategorical': 'conservative revolution literature',\n",
    "    'heimatkunstCategorical': 'regional heritage art',\n",
    "    'dekadenzCategorical': 'decadence literature'\n",
    "}"
   ]
  },
  {
   "cell_type": "code",
   "execution_count": 4,
   "id": "b698d330-8f1f-4370-9c4b-291ceeaf7a3b",
   "metadata": {},
   "outputs": [
    {
     "name": "stdout",
     "output_type": "stream",
     "text": [
      "network_top10_noun_adj_verb.html\n"
     ]
    },
    {
     "data": {
      "text/html": [
       "\n",
       "        <iframe\n",
       "            width=\"100%\"\n",
       "            height=\"1000px\"\n",
       "            src=\"network_top10_noun_adj_verb.html\"\n",
       "            frameborder=\"0\"\n",
       "            allowfullscreen\n",
       "            \n",
       "        ></iframe>\n",
       "        "
      ],
      "text/plain": [
       "<IPython.lib.display.IFrame at 0x1f83a78d670>"
      ]
     },
     "execution_count": 4,
     "metadata": {},
     "output_type": "execute_result"
    }
   ],
   "source": [
    "\n",
    "# Replace the values in the 'category name' column\n",
    "top_words_df['text_group'] = top_words_df['text_group'].replace(replacement_dict)\n",
    "\n",
    "net = Network(\n",
    "    notebook=True,\n",
    "    cdn_resources=\"remote\",\n",
    "    height=\"1000px\",\n",
    "    width=\"100%\",\n",
    "    bgcolor=\"white\",\n",
    "    font_color=\"black\",\n",
    "    select_menu=True,\n",
    ")\n",
    "\n",
    "sources = top_words_df[\"top_words\"]\n",
    "targets = top_words_df[\"text_group\"]\n",
    "weights = top_words_df[\"zeta_value\"]\n",
    "\n",
    "edge_data = zip(sources, targets, weights)\n",
    "\n",
    "for e in edge_data:\n",
    "    src = e[0]\n",
    "    dst = e[1]\n",
    "    w = e[2]\n",
    "\n",
    "    net.add_node(src, src, title=src, color='blue', size=15, font={'size': 18})\n",
    "    net.add_node(dst, dst, title=dst, color='purple', size=28, font={'size': 80})\n",
    "    net.add_edge(src, dst, value=w, color='pink')\n",
    "\n",
    "#net.show_buttons(filter_=['physics'])\n",
    "net.show(\"network_top10_noun_adj_verb.html\")"
   ]
  }
 ],
 "metadata": {
  "kernelspec": {
   "display_name": "Python 3 (ipykernel)",
   "language": "python",
   "name": "python3"
  },
  "language_info": {
   "codemirror_mode": {
    "name": "ipython",
    "version": 3
   },
   "file_extension": ".py",
   "mimetype": "text/x-python",
   "name": "python",
   "nbconvert_exporter": "python",
   "pygments_lexer": "ipython3",
   "version": "3.12.7"
  }
 },
 "nbformat": 4,
 "nbformat_minor": 5
}
